{
 "cells": [
  {
   "cell_type": "markdown",
   "metadata": {},
   "source": [
    "# 계산 노예"
   ]
  },
  {
   "cell_type": "code",
   "execution_count": 18,
   "metadata": {},
   "outputs": [
    {
     "name": "stdout",
     "output_type": "stream",
     "text": [
      "/usr/bin/python3\n"
     ]
    }
   ],
   "source": [
    "import sys\n",
    "\n",
    "print(sys.executable)"
   ]
  },
  {
   "cell_type": "code",
   "execution_count": 19,
   "metadata": {},
   "outputs": [],
   "source": [
    "import sympy as sp\n",
    "import custom_sympy as csp"
   ]
  },
  {
   "cell_type": "code",
   "execution_count": 20,
   "metadata": {},
   "outputs": [
    {
     "data": {
      "text/latex": [
       "$\\displaystyle \\left[\\begin{matrix}\\dot{x}\\\\\\ddot{x}\\\\\\dot{\\theta}\\\\\\ddot{\\theta}\\end{matrix}\\right] = \\left[\\begin{matrix}\\dot{x}\\\\\\frac{f - \\frac{g m \\sin{\\left(2 \\theta \\right)}}{2} + l m \\dot{\\theta}^{2} \\sin{\\left(\\theta \\right)}}{M + m \\sin^{2}{\\left(\\theta \\right)}}\\\\\\dot{\\theta}\\\\\\frac{M g \\sin{\\left(\\theta \\right)} - f \\cos{\\left(\\theta \\right)} + g m \\sin{\\left(\\theta \\right)} - \\frac{l m \\dot{\\theta}^{2} \\sin{\\left(2 \\theta \\right)}}{2}}{l \\left(M + m \\sin^{2}{\\left(\\theta \\right)}\\right)}\\end{matrix}\\right]$"
      ],
      "text/plain": [
       "Eq(Matrix([\n",
       "[     xdot],\n",
       "[    xddot],\n",
       "[ thetadot],\n",
       "[thetaddot]]), Matrix([\n",
       "[                                                                                                       xdot],\n",
       "[                                (f - g*m*sin(2*theta)/2 + l*m*thetadot**2*sin(theta))/(M + m*sin(theta)**2)],\n",
       "[                                                                                                   thetadot],\n",
       "[(M*g*sin(theta) - f*cos(theta) + g*m*sin(theta) - l*m*thetadot**2*sin(2*theta)/2)/(l*(M + m*sin(theta)**2))]]))"
      ]
     },
     "execution_count": 20,
     "metadata": {},
     "output_type": "execute_result"
    }
   ],
   "source": [
    "# 시간 정의\n",
    "t = sp.symbols(\"t\", real=True)\n",
    "\n",
    "# 상수 정의\n",
    "m, M, l, g = sp.symbols(\"m M l g\", real=True)\n",
    "fric_x, fric_theta = sp.symbols(\"fric_x fric_theta\", real=True)\n",
    "\n",
    "\n",
    "# 차량에 대한 외력 정의\n",
    "f = sp.symbols(\"f\", real=True)\n",
    "\n",
    "# state 변수 정의\n",
    "x = sp.Function(\"x\")(t)\n",
    "theta = sp.Function(\"theta\")(t)\n",
    "x_dot = x.diff(t)\n",
    "theta_dot = theta.diff(t)\n",
    "x_ddot = x_dot.diff(t)\n",
    "theta_ddot = theta_dot.diff(t)\n",
    "\n",
    "state = csp.make_state_vector([(x, 1), (theta, 1)], t)\n",
    "\n",
    "\n",
    "# 각 질량체의 x,y 좌표 정의\n",
    "cart_pos_x = x\n",
    "cart_pos_y = 0\n",
    "pendulum_pos_x = x + l * sp.sin(theta)\n",
    "pendulum_pos_y = l * sp.cos(theta)\n",
    "\n",
    "# 각 질량체의 속도의 제곱\n",
    "cart_vel_sqare = cart_pos_x.diff(t) ** 2\n",
    "pendulum_vel_sqare = pendulum_pos_x.diff(t) ** 2 + pendulum_pos_y.diff(t) ** 2\n",
    "\n",
    "# 시스템의 총 위치에너지와 운동에너지\n",
    "V = m * g * pendulum_pos_y  # 위치에너지\n",
    "T = 1 / 2 * M * cart_vel_sqare + 1 / 2 * m * pendulum_vel_sqare  # 운동에너지\n",
    "\n",
    "# 라그랑지안\n",
    "L = T - V\n",
    "L.simplify()\n",
    "\n",
    "# 각 좌표계에 대한 라그랑주 방정식. 마찰력과 외력을 포함한다.\n",
    "x_eq = sp.Eq(L.diff(x_dot).diff(t) - L.diff(x), f).simplify()\n",
    "theta_eq = sp.Eq(L.diff(theta_dot).diff(t) - L.diff(theta), 0).simplify()\n",
    "\n",
    "solution = sp.solve([x_eq, theta_eq], [x_ddot, theta_ddot])\n",
    "\n",
    "sol_x_ddot = solution[x_ddot].simplify()\n",
    "sol_theta_ddot = solution[theta_ddot].simplify()\n",
    "\n",
    "state_dot = state.diff(t).subs([(x_ddot, sol_x_ddot), (theta_ddot, sol_theta_ddot)])\n",
    "\n",
    "csp.make_state_comfy_to_see(sp.Eq(state.diff(t), state_dot))"
   ]
  },
  {
   "cell_type": "markdown",
   "metadata": {},
   "source": [
    "f(x)를 찾아낸다."
   ]
  },
  {
   "cell_type": "code",
   "execution_count": 21,
   "metadata": {},
   "outputs": [
    {
     "data": {
      "text/latex": [
       "$\\displaystyle \\left[\\begin{matrix}\\dot{x}\\\\\\frac{m \\left(- g \\cos{\\left(\\theta \\right)} + l \\dot{\\theta}^{2}\\right) \\sin{\\left(\\theta \\right)}}{M + m \\sin^{2}{\\left(\\theta \\right)}}\\\\\\dot{\\theta}\\\\\\frac{\\left(M g + g m - l m \\dot{\\theta}^{2} \\cos{\\left(\\theta \\right)}\\right) \\sin{\\left(\\theta \\right)}}{l \\left(M + m \\sin^{2}{\\left(\\theta \\right)}\\right)}\\end{matrix}\\right]$"
      ],
      "text/plain": [
       "Matrix([\n",
       "[                                                                         xdot],\n",
       "[           m*(-g*cos(theta) + l*thetadot**2)*sin(theta)/(M + m*sin(theta)**2)],\n",
       "[                                                                     thetadot],\n",
       "[(M*g + g*m - l*m*thetadot**2*cos(theta))*sin(theta)/(l*(M + m*sin(theta)**2))]])"
      ]
     },
     "execution_count": 21,
     "metadata": {},
     "output_type": "execute_result"
    }
   ],
   "source": [
    "# f(x)\n",
    "f_x = state_dot.subs(f, 0)\n",
    "f_x = sp.simplify(f_x)\n",
    "csp.make_state_comfy_to_see(f_x)"
   ]
  },
  {
   "cell_type": "markdown",
   "metadata": {},
   "source": [
    "g(x)를 찾아낸다."
   ]
  },
  {
   "cell_type": "code",
   "execution_count": 22,
   "metadata": {},
   "outputs": [
    {
     "data": {
      "text/latex": [
       "$\\displaystyle \\left[\\begin{matrix}0\\\\\\frac{1}{M + m \\sin^{2}{\\left(\\theta \\right)}}\\\\0\\\\- \\frac{\\cos{\\left(\\theta \\right)}}{l \\left(M + m \\sin^{2}{\\left(\\theta \\right)}\\right)}\\end{matrix}\\right]$"
      ],
      "text/plain": [
       "Matrix([\n",
       "[                                    0],\n",
       "[              1/(M + m*sin(theta)**2)],\n",
       "[                                    0],\n",
       "[-cos(theta)/(l*(M + m*sin(theta)**2))]])"
      ]
     },
     "execution_count": 22,
     "metadata": {},
     "output_type": "execute_result"
    }
   ],
   "source": [
    "g_x = (state_dot - f_x) / f\n",
    "g_x = sp.simplify(g_x)\n",
    "csp.make_state_comfy_to_see(g_x)"
   ]
  },
  {
   "cell_type": "markdown",
   "metadata": {},
   "source": [
    "## HO-CBF 만들기"
   ]
  },
  {
   "cell_type": "markdown",
   "metadata": {},
   "source": [
    "2차 order CBF를 만들 것이다. 이것의 식은 다음과 같다.\n",
    "\n",
    "$$\\ddot{h}+\\alpha(\\dot{h}) \\geq 0$$\n"
   ]
  },
  {
   "cell_type": "markdown",
   "metadata": {},
   "source": [
    "응~ 틀렸어! 찬찬히 봐봐. 우선, $\\alpha(x) = k x$라고 하자.\n",
    "$$\\begin{aligned}\n",
    "\\psi_0(\\mathbf{x}) &:= h(\\mathbf{x}) \\\\\n",
    "\\psi_1(\\mathbf{x}) &:= \\dot{\\psi}_0(\\mathbf{x}) + k_1 \\psi_0(\\mathbf{x}) \\\\\n",
    "&= \\dot{h}(\\mathbf{x}) + k_1 h(\\mathbf{x}) \\\\\n",
    "\\psi_2(\\mathbf{x}) &:= \\dot{\\psi}_1(\\mathbf{x}) + k_2 \\psi_1(\\mathbf{x}) \\\\\n",
    "&= \\ddot{h}(\\mathbf{x}) + k_2 \\dot{h}(\\mathbf{x}) + k_2 k_1 h(\\mathbf{x})\n",
    "\\end{aligned}$$"
   ]
  },
  {
   "cell_type": "markdown",
   "metadata": {},
   "source": [
    "그러니까 부등식은 다음과 같아야해.\n",
    "$$\\ddot{h}(\\mathbf{x}) + k_2 \\dot{h}(\\mathbf{x}) + k_2 k_1 h(\\mathbf{x}) \\geq 0 $$"
   ]
  },
  {
   "cell_type": "markdown",
   "metadata": {},
   "source": [
    "우선 $h(x)$를 정의한다."
   ]
  },
  {
   "cell_type": "code",
   "execution_count": 84,
   "metadata": {},
   "outputs": [
    {
     "data": {
      "text/latex": [
       "$\\displaystyle \\left(- x_{max} + x{\\left(t \\right)}\\right) \\left(x_{min} - x{\\left(t \\right)}\\right)$"
      ],
      "text/plain": [
       "(-x_max + x(t))*(x_min - x(t))"
      ]
     },
     "execution_count": 84,
     "metadata": {},
     "output_type": "execute_result"
    }
   ],
   "source": [
    "x_min = sp.symbols(\"x_min\", real=True)\n",
    "x_max = sp.symbols(\"x_max\", real=True)\n",
    "\n",
    "h_x = -(state[0] - x_min) * (state[0] - x_max)\n",
    "\n",
    "h_x"
   ]
  },
  {
   "cell_type": "markdown",
   "metadata": {},
   "source": [
    "$\\frac{dh}{d\\mathbf{x}}$ 계산"
   ]
  },
  {
   "cell_type": "code",
   "execution_count": 85,
   "metadata": {},
   "outputs": [
    {
     "data": {
      "text/latex": [
       "$\\displaystyle \\left[\\begin{matrix}x_{max} + x_{min} - 2 x{\\left(t \\right)} & 0 & 0 & 0\\end{matrix}\\right]$"
      ],
      "text/plain": [
       "Matrix([[x_max + x_min - 2*x(t), 0, 0, 0]])"
      ]
     },
     "execution_count": 85,
     "metadata": {},
     "output_type": "execute_result"
    }
   ],
   "source": [
    "dh_dstate = h_x.diff(state).T\n",
    "dh_dstate"
   ]
  },
  {
   "cell_type": "markdown",
   "metadata": {},
   "source": [
    "$\\dot{h}$를 구한다."
   ]
  },
  {
   "cell_type": "code",
   "execution_count": 86,
   "metadata": {},
   "outputs": [
    {
     "data": {
      "text/latex": [
       "$\\displaystyle \\dot{x} \\left(- 2 x + x_{max} + x_{min}\\right)$"
      ],
      "text/plain": [
       "xdot*(-2*x + x_max + x_min)"
      ]
     },
     "execution_count": 86,
     "metadata": {},
     "output_type": "execute_result"
    }
   ],
   "source": [
    "h_dot_x = csp.make_11matrix_to_scalar(dh_dstate @ f_x + dh_dstate @ g_x)\n",
    "csp.make_state_comfy_to_see(h_dot_x)"
   ]
  },
  {
   "cell_type": "markdown",
   "metadata": {},
   "source": [
    "그 다음 \n",
    "\n",
    "$$\\ddot{h}=\\frac{d\\dot{h}}{d\\mathbf{x}}f(\\mathbf{x}) + \\frac{d\\dot{h}}{d\\mathbf{x}}g(\\mathbf{x})$$\n",
    "\n",
    "이므로 $\\frac{d\\dot{h}}{d\\mathbf{x}}$를 구한다."
   ]
  },
  {
   "cell_type": "code",
   "execution_count": 87,
   "metadata": {},
   "outputs": [
    {
     "data": {
      "text/latex": [
       "$\\displaystyle \\left[\\begin{matrix}- 2 \\dot{x} & - 2 x + x_{max} + x_{min} & 0 & 0\\end{matrix}\\right]$"
      ],
      "text/plain": [
       "Matrix([[-2*xdot, -2*x + x_max + x_min, 0, 0]])"
      ]
     },
     "execution_count": 87,
     "metadata": {},
     "output_type": "execute_result"
    }
   ],
   "source": [
    "dh_dot_x_dstate = h_dot_x.diff(state).T\n",
    "csp.make_state_comfy_to_see(dh_dot_x_dstate)"
   ]
  },
  {
   "cell_type": "markdown",
   "metadata": {},
   "source": [
    "따라서 $\\ddot{h}$는 다음과 같다."
   ]
  },
  {
   "cell_type": "code",
   "execution_count": 88,
   "metadata": {},
   "outputs": [
    {
     "data": {
      "text/latex": [
       "$\\displaystyle \\frac{f \\left(- 2 x + x_{max} + x_{min}\\right) - m \\left(g \\cos{\\left(\\theta \\right)} - l \\dot{\\theta}^{2}\\right) \\left(- 2 x + x_{max} + x_{min}\\right) \\sin{\\left(\\theta \\right)} - 2 \\dot{x}^{2} \\left(M + m \\sin^{2}{\\left(\\theta \\right)}\\right)}{M + m \\sin^{2}{\\left(\\theta \\right)}}$"
      ],
      "text/plain": [
       "(f*(-2*x + x_max + x_min) - m*(g*cos(theta) - l*thetadot**2)*(-2*x + x_max + x_min)*sin(theta) - 2*xdot**2*(M + m*sin(theta)**2))/(M + m*sin(theta)**2)"
      ]
     },
     "execution_count": 88,
     "metadata": {},
     "output_type": "execute_result"
    }
   ],
   "source": [
    "h_ddot_x = dh_dot_x_dstate @ f_x + dh_dot_x_dstate @ g_x * f\n",
    "\n",
    "h_ddot_x = csp.make_11matrix_to_scalar(h_ddot_x)\n",
    "\n",
    "csp.make_state_comfy_to_see(h_ddot_x)"
   ]
  },
  {
   "cell_type": "markdown",
   "metadata": {},
   "source": [
    "$$\\ddot{h}(\\mathbf{x}) + k_2 \\dot{h}(\\mathbf{x}) + k_2 k_1 h(\\mathbf{x}) \\geq 0$$ \n",
    "이걸 구현하자."
   ]
  },
  {
   "cell_type": "code",
   "execution_count": 89,
   "metadata": {},
   "outputs": [
    {
     "data": {
      "text/latex": [
       "$\\displaystyle \\frac{k_{2} \\left(M + m \\sin^{2}{\\left(\\theta \\right)}\\right) \\left(- k_{1} \\left(- x + x_{max}\\right) \\left(- x + x_{min}\\right) + \\dot{x} \\left(- 2 x + x_{max} + x_{min}\\right)\\right) - m \\left(g \\cos{\\left(\\theta \\right)} - l \\dot{\\theta}^{2}\\right) \\left(- 2 x + x_{max} + x_{min}\\right) \\sin{\\left(\\theta \\right)} + u \\left(- 2 x + x_{max} + x_{min}\\right) - 2 \\dot{x}^{2} \\left(M + m \\sin^{2}{\\left(\\theta \\right)}\\right)}{M + m \\sin^{2}{\\left(\\theta \\right)}} \\geq 0$"
      ],
      "text/plain": [
       "(k_2*(M + m*sin(theta)**2)*(-k_1*(-x + x_max)*(-x + x_min) + xdot*(-2*x + x_max + x_min)) - m*(g*cos(theta) - l*thetadot**2)*(-2*x + x_max + x_min)*sin(theta) + u*(-2*x + x_max + x_min) - 2*xdot**2*(M + m*sin(theta)**2))/(M + m*sin(theta)**2) >= 0"
      ]
     },
     "execution_count": 89,
     "metadata": {},
     "output_type": "execute_result"
    }
   ],
   "source": [
    "k_1, k_2 = sp.symbols(\"k_1 k_2\", real=True)\n",
    "u = sp.symbols(\"u\", real=True)\n",
    "ineq = (h_ddot_x + k_2 * h_dot_x + k_2 * k_1 * h_x >= 0).simplify().subs(f, u)\n",
    "csp.make_state_comfy_to_see(ineq)"
   ]
  },
  {
   "cell_type": "markdown",
   "metadata": {},
   "source": [
    "분모가 항상 0보다 크다. 분모 제거"
   ]
  },
  {
   "cell_type": "code",
   "execution_count": 90,
   "metadata": {},
   "outputs": [
    {
     "data": {
      "text/latex": [
       "$\\displaystyle k_{2} \\left(M + m \\sin^{2}{\\left(\\theta \\right)}\\right) \\left(k_{1} \\left(- x + x_{max}\\right) \\left(- x + x_{min}\\right) - \\dot{x} \\left(- 2 x + x_{max} + x_{min}\\right)\\right) + m \\left(g \\cos{\\left(\\theta \\right)} - l \\dot{\\theta}^{2}\\right) \\left(- 2 x + x_{max} + x_{min}\\right) \\sin{\\left(\\theta \\right)} - u \\left(- 2 x + x_{max} + x_{min}\\right) + 2 \\dot{x}^{2} \\left(M + m \\sin^{2}{\\left(\\theta \\right)}\\right) \\leq 0$"
      ],
      "text/plain": [
       "k_2*(M + m*sin(theta)**2)*(k_1*(-x + x_max)*(-x + x_min) - xdot*(-2*x + x_max + x_min)) + m*(g*cos(theta) - l*thetadot**2)*(-2*x + x_max + x_min)*sin(theta) - u*(-2*x + x_max + x_min) + 2*xdot**2*(M + m*sin(theta)**2) <= 0"
      ]
     },
     "execution_count": 90,
     "metadata": {},
     "output_type": "execute_result"
    }
   ],
   "source": [
    "D = M + m * sp.sin(theta) ** 2\n",
    "ineq1 = ineq.lhs * D >= 0\n",
    "ineq1 = ineq1.simplify()\n",
    "csp.make_state_comfy_to_see(ineq1)"
   ]
  },
  {
   "cell_type": "markdown",
   "metadata": {},
   "source": [
    "$a(\\mathbf{x}) u \\leq b(\\mathbf{x})$꼴로 고친다."
   ]
  },
  {
   "cell_type": "code",
   "execution_count": 91,
   "metadata": {},
   "outputs": [
    {
     "data": {
      "text/latex": [
       "$\\displaystyle u \\left(2 x - x_{max} - x_{min}\\right) \\leq - M k_{1} k_{2} x^{2} + M k_{1} k_{2} x x_{max} + M k_{1} k_{2} x x_{min} - M k_{1} k_{2} x_{max} x_{min} - 2 M k_{2} x \\dot{x} + M k_{2} x_{max} \\dot{x} + M k_{2} x_{min} \\dot{x} - 2 M \\dot{x}^{2} + g m x \\sin{\\left(2 \\theta \\right)} - \\frac{g m x_{max} \\sin{\\left(2 \\theta \\right)}}{2} - \\frac{g m x_{min} \\sin{\\left(2 \\theta \\right)}}{2} - k_{1} k_{2} m x^{2} \\sin^{2}{\\left(\\theta \\right)} + k_{1} k_{2} m x x_{max} \\sin^{2}{\\left(\\theta \\right)} + k_{1} k_{2} m x x_{min} \\sin^{2}{\\left(\\theta \\right)} - k_{1} k_{2} m x_{max} x_{min} \\sin^{2}{\\left(\\theta \\right)} - 2 k_{2} m x \\dot{x} \\sin^{2}{\\left(\\theta \\right)} + k_{2} m x_{max} \\dot{x} \\sin^{2}{\\left(\\theta \\right)} + k_{2} m x_{min} \\dot{x} \\sin^{2}{\\left(\\theta \\right)} - 2 l m \\dot{\\theta}^{2} x \\sin{\\left(\\theta \\right)} + l m \\dot{\\theta}^{2} x_{max} \\sin{\\left(\\theta \\right)} + l m \\dot{\\theta}^{2} x_{min} \\sin{\\left(\\theta \\right)} - 2 m \\dot{x}^{2} \\sin^{2}{\\left(\\theta \\right)}$"
      ],
      "text/plain": [
       "u*(2*x - x_max - x_min) <= -M*k_1*k_2*x**2 + M*k_1*k_2*x*x_max + M*k_1*k_2*x*x_min - M*k_1*k_2*x_max*x_min - 2*M*k_2*x*xdot + M*k_2*x_max*xdot + M*k_2*x_min*xdot - 2*M*xdot**2 + g*m*x*sin(2*theta) - g*m*x_max*sin(2*theta)/2 - g*m*x_min*sin(2*theta)/2 - k_1*k_2*m*x**2*sin(theta)**2 + k_1*k_2*m*x*x_max*sin(theta)**2 + k_1*k_2*m*x*x_min*sin(theta)**2 - k_1*k_2*m*x_max*x_min*sin(theta)**2 - 2*k_2*m*x*xdot*sin(theta)**2 + k_2*m*x_max*xdot*sin(theta)**2 + k_2*m*x_min*xdot*sin(theta)**2 - 2*l*m*thetadot**2*x*sin(theta) + l*m*thetadot**2*x_max*sin(theta) + l*m*thetadot**2*x_min*sin(theta) - 2*m*xdot**2*sin(theta)**2"
      ]
     },
     "execution_count": 91,
     "metadata": {},
     "output_type": "execute_result"
    }
   ],
   "source": [
    "ineq2 = sp.solve(ineq1, u).simplify()\n",
    "csp.make_state_comfy_to_see(ineq2)"
   ]
  },
  {
   "cell_type": "code",
   "execution_count": 92,
   "metadata": {},
   "outputs": [],
   "source": [
    "u_side = ineq2.lhs.simplify()\n",
    "other_side = ineq2.rhs.simplify()"
   ]
  },
  {
   "cell_type": "code",
   "execution_count": 93,
   "metadata": {},
   "outputs": [
    {
     "data": {
      "text/latex": [
       "$\\displaystyle u \\left(2 x - x_{max} - x_{min}\\right)$"
      ],
      "text/plain": [
       "u*(2*x - x_max - x_min)"
      ]
     },
     "execution_count": 93,
     "metadata": {},
     "output_type": "execute_result"
    }
   ],
   "source": [
    "csp.make_state_comfy_to_see(u_side)"
   ]
  },
  {
   "cell_type": "code",
   "execution_count": 94,
   "metadata": {},
   "outputs": [
    {
     "data": {
      "text/latex": [
       "$\\displaystyle - M k_{1} k_{2} x^{2} + M k_{1} k_{2} x x_{max} + M k_{1} k_{2} x x_{min} - M k_{1} k_{2} x_{max} x_{min} - 2 M k_{2} x \\dot{x} + M k_{2} x_{max} \\dot{x} + M k_{2} x_{min} \\dot{x} - 2 M \\dot{x}^{2} + g m x \\sin{\\left(2 \\theta \\right)} - \\frac{g m x_{max} \\sin{\\left(2 \\theta \\right)}}{2} - \\frac{g m x_{min} \\sin{\\left(2 \\theta \\right)}}{2} - k_{1} k_{2} m x^{2} \\sin^{2}{\\left(\\theta \\right)} + k_{1} k_{2} m x x_{max} \\sin^{2}{\\left(\\theta \\right)} + k_{1} k_{2} m x x_{min} \\sin^{2}{\\left(\\theta \\right)} - k_{1} k_{2} m x_{max} x_{min} \\sin^{2}{\\left(\\theta \\right)} - 2 k_{2} m x \\dot{x} \\sin^{2}{\\left(\\theta \\right)} + k_{2} m x_{max} \\dot{x} \\sin^{2}{\\left(\\theta \\right)} + k_{2} m x_{min} \\dot{x} \\sin^{2}{\\left(\\theta \\right)} - 2 l m \\dot{\\theta}^{2} x \\sin{\\left(\\theta \\right)} + l m \\dot{\\theta}^{2} x_{max} \\sin{\\left(\\theta \\right)} + l m \\dot{\\theta}^{2} x_{min} \\sin{\\left(\\theta \\right)} - 2 m \\dot{x}^{2} \\sin^{2}{\\left(\\theta \\right)}$"
      ],
      "text/plain": [
       "-M*k_1*k_2*x**2 + M*k_1*k_2*x*x_max + M*k_1*k_2*x*x_min - M*k_1*k_2*x_max*x_min - 2*M*k_2*x*xdot + M*k_2*x_max*xdot + M*k_2*x_min*xdot - 2*M*xdot**2 + g*m*x*sin(2*theta) - g*m*x_max*sin(2*theta)/2 - g*m*x_min*sin(2*theta)/2 - k_1*k_2*m*x**2*sin(theta)**2 + k_1*k_2*m*x*x_max*sin(theta)**2 + k_1*k_2*m*x*x_min*sin(theta)**2 - k_1*k_2*m*x_max*x_min*sin(theta)**2 - 2*k_2*m*x*xdot*sin(theta)**2 + k_2*m*x_max*xdot*sin(theta)**2 + k_2*m*x_min*xdot*sin(theta)**2 - 2*l*m*thetadot**2*x*sin(theta) + l*m*thetadot**2*x_max*sin(theta) + l*m*thetadot**2*x_min*sin(theta) - 2*m*xdot**2*sin(theta)**2"
      ]
     },
     "execution_count": 94,
     "metadata": {},
     "output_type": "execute_result"
    }
   ],
   "source": [
    "csp.make_state_comfy_to_see(other_side)"
   ]
  },
  {
   "cell_type": "markdown",
   "metadata": {},
   "source": [
    "값을 넣어보자."
   ]
  },
  {
   "cell_type": "code",
   "execution_count": 95,
   "metadata": {},
   "outputs": [
    {
     "data": {
      "text/latex": [
       "$\\displaystyle u \\leq \\frac{3}{2}$"
      ],
      "text/plain": [
       "u <= 3/2"
      ]
     },
     "execution_count": 95,
     "metadata": {},
     "output_type": "execute_result"
    }
   ],
   "source": [
    "dict_state = {x: 1, theta: 0, x_dot: 0, theta_dot: 0}\n",
    "dict_const = {m: 0.1, M: 1, l: 1, g: 9.81, k_1: 1, k_2: 1, x_min: -2, x_max: 2}\n",
    "result = ineq2.subs(dict_const).simplify()\n",
    "result = result.subs(dict_state).simplify()\n",
    "csp.make_state_comfy_to_see(result)"
   ]
  }
 ],
 "metadata": {
  "kernelspec": {
   "display_name": "Python 3",
   "language": "python",
   "name": "python3"
  },
  "language_info": {
   "codemirror_mode": {
    "name": "ipython",
    "version": 3
   },
   "file_extension": ".py",
   "mimetype": "text/x-python",
   "name": "python",
   "nbconvert_exporter": "python",
   "pygments_lexer": "ipython3",
   "version": "3.8.10"
  }
 },
 "nbformat": 4,
 "nbformat_minor": 2
}
