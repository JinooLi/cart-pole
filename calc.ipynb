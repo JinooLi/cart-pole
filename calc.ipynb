{
 "cells": [
  {
   "cell_type": "markdown",
   "metadata": {},
   "source": [
    "# 계산 노예"
   ]
  },
  {
   "cell_type": "code",
   "execution_count": null,
   "metadata": {},
   "outputs": [],
   "source": [
    "import sys\n",
    "\n",
    "print(sys.executable)"
   ]
  },
  {
   "cell_type": "code",
   "execution_count": null,
   "metadata": {},
   "outputs": [],
   "source": [
    "import sympy as sp\n",
    "import custom_sympy as csp"
   ]
  },
  {
   "cell_type": "code",
   "execution_count": null,
   "metadata": {},
   "outputs": [],
   "source": [
    "# 시간 정의\n",
    "t = sp.symbols(\"t\", real=True)\n",
    "\n",
    "# 상수 정의\n",
    "m, M, l, g = sp.symbols(\"m M l g\", real=True)\n",
    "fric_x, fric_theta = sp.symbols(\"fric_x fric_theta\", real=True)\n",
    "\n",
    "\n",
    "# 차량에 대한 외력 정의\n",
    "f = sp.symbols(\"f\", real=True)\n",
    "\n",
    "# state 변수 정의\n",
    "x = sp.Function(\"x\")(t)\n",
    "theta = sp.Function(\"theta\")(t)\n",
    "x_dot = x.diff(t)\n",
    "theta_dot = theta.diff(t)\n",
    "x_ddot = x_dot.diff(t)\n",
    "theta_ddot = theta_dot.diff(t)\n",
    "\n",
    "state = csp.make_state_vector([(x, 1), (theta, 1)], t)\n",
    "\n",
    "\n",
    "# 각 질량체의 x,y 좌표 정의\n",
    "cart_pos_x = x\n",
    "cart_pos_y = 0\n",
    "pendulum_pos_x = x + l * sp.sin(theta)\n",
    "pendulum_pos_y = l * sp.cos(theta)\n",
    "\n",
    "# 각 질량체의 속도의 제곱\n",
    "cart_vel_sqare = cart_pos_x.diff(t) ** 2\n",
    "pendulum_vel_sqare = pendulum_pos_x.diff(t) ** 2 + pendulum_pos_y.diff(t) ** 2\n",
    "\n",
    "# 시스템의 총 위치에너지와 운동에너지\n",
    "V = m * g * pendulum_pos_y  # 위치에너지\n",
    "T = 1 / 2 * M * cart_vel_sqare + 1 / 2 * m * pendulum_vel_sqare  # 운동에너지\n",
    "\n",
    "# 라그랑지안\n",
    "L = T - V\n",
    "L.simplify()\n",
    "\n",
    "# 각 좌표계에 대한 라그랑주 방정식. 마찰력과 외력을 포함한다.\n",
    "x_eq = sp.Eq(L.diff(x_dot).diff(t) - L.diff(x), f).simplify()\n",
    "theta_eq = sp.Eq(L.diff(theta_dot).diff(t) - L.diff(theta), 0).simplify()\n",
    "\n",
    "solution = sp.solve([x_eq, theta_eq], [x_ddot, theta_ddot])\n",
    "\n",
    "sol_x_ddot = solution[x_ddot].simplify()\n",
    "sol_theta_ddot = solution[theta_ddot].simplify()\n",
    "\n",
    "state_dot = state.diff(t).subs([(x_ddot, sol_x_ddot), (theta_ddot, sol_theta_ddot)])\n",
    "\n",
    "csp.make_state_comfy_to_see(sp.Eq(state.diff(t), state_dot))"
   ]
  },
  {
   "cell_type": "markdown",
   "metadata": {},
   "source": [
    "f(x)를 찾아낸다."
   ]
  },
  {
   "cell_type": "code",
   "execution_count": null,
   "metadata": {},
   "outputs": [],
   "source": [
    "# f(x)\n",
    "f_x = state_dot.subs(f, 0)\n",
    "f_x = sp.simplify(f_x)\n",
    "csp.make_state_comfy_to_see(f_x)"
   ]
  },
  {
   "cell_type": "markdown",
   "metadata": {},
   "source": [
    "g(x)를 찾아낸다."
   ]
  },
  {
   "cell_type": "code",
   "execution_count": null,
   "metadata": {},
   "outputs": [],
   "source": [
    "g_x = (state_dot - f_x) / f\n",
    "g_x = sp.simplify(g_x)\n",
    "csp.make_state_comfy_to_see(g_x)"
   ]
  },
  {
   "cell_type": "markdown",
   "metadata": {},
   "source": [
    "## HO-CBF 만들기"
   ]
  },
  {
   "cell_type": "markdown",
   "metadata": {},
   "source": [
    "2차 order CBF를 만들 것이다. 이것의 식은 다음과 같다.\n",
    "\n",
    "$$\\ddot{h}+\\alpha(\\dot{h}) \\geq 0$$\n"
   ]
  },
  {
   "cell_type": "markdown",
   "metadata": {},
   "source": [
    "응~ 틀렸어! 찬찬히 봐봐. 우선, $\\alpha(x) = k x$라고 하자.\n",
    "$$\\begin{aligned}\n",
    "\\psi_0(\\mathbf{x}) &:= h(\\mathbf{x}) \\\\\n",
    "\\psi_1(\\mathbf{x}) &:= \\dot{\\psi}_0(\\mathbf{x}) + k_1 \\psi_0(\\mathbf{x}) \\\\\n",
    "&= \\dot{h}(\\mathbf{x}) + k_1 h(\\mathbf{x}) \\\\\n",
    "\\psi_2(\\mathbf{x}) &:= \\dot{\\psi}_1(\\mathbf{x}) + k_2 \\psi_1(\\mathbf{x}) \\\\\n",
    "&= \\ddot{h}(\\mathbf{x}) + k_2 \\dot{h}(\\mathbf{x}) + k_2 k_1 h(\\mathbf{x})\n",
    "\\end{aligned}$$"
   ]
  },
  {
   "cell_type": "markdown",
   "metadata": {},
   "source": [
    "그러니까 부등식은 다음과 같아야해.\n",
    "$$\\ddot{h}(\\mathbf{x}) + k_2 \\dot{h}(\\mathbf{x}) + k_2 k_1 h(\\mathbf{x}) \\geq 0 $$"
   ]
  },
  {
   "cell_type": "markdown",
   "metadata": {},
   "source": [
    "우선 $h(x)$를 정의한다."
   ]
  },
  {
   "cell_type": "code",
   "execution_count": null,
   "metadata": {},
   "outputs": [],
   "source": [
    "x_min = sp.symbols(\"x_min\", real=True)\n",
    "x_max = sp.symbols(\"x_max\", real=True)\n",
    "\n",
    "h_x = -(state[0] - x_min) * (state[0] - x_max)\n",
    "\n",
    "h_x"
   ]
  },
  {
   "cell_type": "markdown",
   "metadata": {},
   "source": [
    "$\\frac{dh}{d\\mathbf{x}}$ 계산"
   ]
  },
  {
   "cell_type": "code",
   "execution_count": null,
   "metadata": {},
   "outputs": [],
   "source": [
    "dh_dstate = h_x.diff(state).T\n",
    "dh_dstate"
   ]
  },
  {
   "cell_type": "markdown",
   "metadata": {},
   "source": [
    "$\\dot{h}$를 구한다."
   ]
  },
  {
   "cell_type": "code",
   "execution_count": null,
   "metadata": {},
   "outputs": [],
   "source": [
    "h_dot_x = csp.make_11matrix_to_scalar(dh_dstate @ f_x + dh_dstate @ g_x)\n",
    "csp.make_state_comfy_to_see(h_dot_x)"
   ]
  },
  {
   "cell_type": "markdown",
   "metadata": {},
   "source": [
    "그 다음 \n",
    "\n",
    "$$\\ddot{h}=\\frac{d\\dot{h}}{d\\mathbf{x}}f(\\mathbf{x}) + \\frac{d\\dot{h}}{d\\mathbf{x}}g(\\mathbf{x})$$\n",
    "\n",
    "이므로 $\\frac{d\\dot{h}}{d\\mathbf{x}}$를 구한다."
   ]
  },
  {
   "cell_type": "code",
   "execution_count": null,
   "metadata": {},
   "outputs": [],
   "source": [
    "dh_dot_x_dstate = h_dot_x.diff(state).T\n",
    "csp.make_state_comfy_to_see(dh_dot_x_dstate)"
   ]
  },
  {
   "cell_type": "markdown",
   "metadata": {},
   "source": [
    "따라서 $\\ddot{h}$는 다음과 같다."
   ]
  },
  {
   "cell_type": "code",
   "execution_count": null,
   "metadata": {},
   "outputs": [],
   "source": [
    "h_ddot_x = dh_dot_x_dstate @ f_x + dh_dot_x_dstate @ g_x * f\n",
    "\n",
    "h_ddot_x = csp.make_11matrix_to_scalar(h_ddot_x)\n",
    "\n",
    "csp.make_state_comfy_to_see(h_ddot_x)"
   ]
  },
  {
   "cell_type": "markdown",
   "metadata": {},
   "source": [
    "$$\\ddot{h}(\\mathbf{x}) + k_2 \\dot{h}(\\mathbf{x}) + k_2 k_1 h(\\mathbf{x}) \\geq 0$$ \n",
    "이걸 구현하자."
   ]
  },
  {
   "cell_type": "code",
   "execution_count": null,
   "metadata": {},
   "outputs": [],
   "source": [
    "k_1, k_2 = sp.symbols(\"k_1 k_2\", real=True)\n",
    "u = sp.symbols(\"u\", real=True)\n",
    "ineq = (h_ddot_x + k_2 * h_dot_x + k_2 * k_1 * h_x >= 0).simplify().subs(f, u)\n",
    "csp.make_state_comfy_to_see(ineq)"
   ]
  },
  {
   "cell_type": "markdown",
   "metadata": {},
   "source": [
    "분모가 항상 0보다 크다. 분모 제거"
   ]
  },
  {
   "cell_type": "code",
   "execution_count": null,
   "metadata": {},
   "outputs": [],
   "source": [
    "D = M + m * sp.sin(theta) ** 2\n",
    "ineq1 = ineq.lhs * D >= 0\n",
    "ineq1 = ineq1.simplify()\n",
    "csp.make_state_comfy_to_see(ineq1)"
   ]
  },
  {
   "cell_type": "markdown",
   "metadata": {},
   "source": [
    "$a(\\mathbf{x}) u \\leq b(\\mathbf{x})$꼴로 고친다."
   ]
  },
  {
   "cell_type": "code",
   "execution_count": null,
   "metadata": {},
   "outputs": [],
   "source": [
    "ineq2 = sp.solve(ineq1, u).simplify()\n",
    "csp.make_state_comfy_to_see(ineq2)"
   ]
  },
  {
   "cell_type": "code",
   "execution_count": null,
   "metadata": {},
   "outputs": [],
   "source": [
    "u_side = ineq2.lhs.simplify()\n",
    "other_side = ineq2.rhs.simplify()"
   ]
  },
  {
   "cell_type": "code",
   "execution_count": null,
   "metadata": {},
   "outputs": [],
   "source": [
    "csp.make_state_comfy_to_see(u_side)"
   ]
  },
  {
   "cell_type": "code",
   "execution_count": null,
   "metadata": {},
   "outputs": [],
   "source": [
    "csp.make_state_comfy_to_see(other_side)"
   ]
  },
  {
   "cell_type": "markdown",
   "metadata": {},
   "source": [
    "값을 넣어보자."
   ]
  },
  {
   "cell_type": "code",
   "execution_count": null,
   "metadata": {},
   "outputs": [],
   "source": [
    "dict_state = {x: 1, theta: 0, x_dot: 0, theta_dot: 0}\n",
    "dict_const = {m: 0.1, M: 1, l: 1, g: 9.81, k_1: 1, k_2: 1, x_min: -2, x_max: 2}\n",
    "result = ineq2.subs(dict_const).simplify()\n",
    "result = result.subs(dict_state).simplify()\n",
    "csp.make_state_comfy_to_see(result)"
   ]
  },
  {
   "cell_type": "markdown",
   "metadata": {},
   "source": [
    "# Swing up을 CLF를 사용해서 할 수 있을까?"
   ]
  },
  {
   "cell_type": "markdown",
   "metadata": {},
   "source": [
    "우선 제시된 Lyapunov function을 만들어 본다."
   ]
  },
  {
   "cell_type": "code",
   "execution_count": null,
   "metadata": {},
   "outputs": [],
   "source": [
    "lam = sp.symbols(\"lambda\", real=True)\n",
    "E_p_val = 1 / 2 * m * l * theta_dot**2 + m * g * l * (sp.cos(theta) - 1)\n",
    "E_p = sp.symbols(\"E_p\", real=True)\n",
    "V = 1 / 2 * (E_p**2 + m * l * lam * x_dot**2)\n",
    "V = V.simplify()\n",
    "csp.make_state_comfy_to_see(V)"
   ]
  },
  {
   "cell_type": "code",
   "execution_count": null,
   "metadata": {},
   "outputs": [],
   "source": [
    "dV_dt = -x_ddot * m * l * (E_p * sp.cos(theta) * theta_dot - lam * x_dot)\n",
    "dV_dt = dV_dt.simplify()\n",
    "csp.make_state_comfy_to_see(dV_dt)"
   ]
  },
  {
   "cell_type": "code",
   "execution_count": null,
   "metadata": {},
   "outputs": [],
   "source": [
    "dV_dt = dV_dt.subs(E_p, E_p_val)\n",
    "dV_dt = dV_dt.simplify()\n",
    "csp.make_state_comfy_to_see(dV_dt)"
   ]
  },
  {
   "cell_type": "markdown",
   "metadata": {},
   "source": [
    "논문에서 제시한 input은 다음과 같다."
   ]
  },
  {
   "cell_type": "code",
   "execution_count": null,
   "metadata": {},
   "outputs": [],
   "source": [
    "u_a = sp.symbols(\"u_a\", real=True)\n",
    "u = u_a * (E_p * sp.cos(theta) * theta_dot - lam * x_dot)\n",
    "u = u.simplify()\n",
    "u = u.subs(E_p, E_p_val)\n",
    "u = u.simplify()\n",
    "csp.make_state_comfy_to_see(u)"
   ]
  },
  {
   "cell_type": "markdown",
   "metadata": {},
   "source": [
    "이 $u$를 matplotlib을 사용하여 시각화해보자."
   ]
  },
  {
   "cell_type": "code",
   "execution_count": null,
   "metadata": {},
   "outputs": [],
   "source": [
    "import numpy as np\n",
    "\n",
    "%matplotlib widget\n",
    "import matplotlib.pyplot as plt\n",
    "\n",
    "# dict_state = {x: 1, theta: 0, x_dot: 0, theta_dot: 0}\n",
    "dict_const = {m: 0.1, M: 1, l: 1, g: 9.81}\n",
    "dict_swing = {u_a: 1, lam: 1}\n",
    "\n",
    "x_sym, theta_sym, x_dot_sym, theta_dot_sym = sp.symbols(\n",
    "    \"x theta xdot thetadot\", real=True\n",
    ")\n",
    "\n",
    "dict_state = {\n",
    "    x: x_sym,\n",
    "    theta: theta_sym,\n",
    "    x_dot: x_dot_sym,\n",
    "    theta_dot: theta_dot_sym,\n",
    "}\n",
    "\n",
    "u_numeric = (\n",
    "    csp.make_state_comfy_to_see(u).subs(dict_const).subs(dict_swing).subs(dict_state)\n",
    ")\n",
    "u_numeric = u_numeric.simplify()\n",
    "\n",
    "u_func = sp.lambdify(\n",
    "    (x, x_dot_sym, theta_sym, theta_dot_sym), u_numeric, modules=\"numpy\"\n",
    ")\n",
    "\n",
    "V = V.subs(E_p, E_p_val)\n",
    "V_numeric = (\n",
    "    csp.make_state_comfy_to_see(V).subs(dict_const).subs(dict_swing).subs(dict_state)\n",
    ")\n",
    "\n",
    "V_numeric = V_numeric.simplify()\n",
    "V_func = sp.lambdify(\n",
    "    (x, x_dot_sym, theta_sym, theta_dot_sym), V_numeric, modules=\"numpy\"\n",
    ")\n",
    "\n",
    "# --- 5. 상태 변수 범위 설정 ---\n",
    "x_dot_vals = np.linspace(-5, 5, 100)\n",
    "theta_vals = np.linspace(-np.pi, np.pi, 100)\n",
    "theta_dot_vals = np.linspace(-10, 10, 100)\n",
    "\n",
    "# --- 7. 그래프 그리기 ---\n",
    "subplot_rows = 1\n",
    "subplot_cols = 2\n",
    "size_per_row = 7\n",
    "size_per_col = 10\n",
    "fig_size = (subplot_cols * size_per_col, subplot_rows * size_per_row)\n",
    "fig, ax = plt.subplots(\n",
    "    subplot_rows,\n",
    "    subplot_cols,\n",
    "    figsize=fig_size,\n",
    ")\n",
    "\n",
    "Theta, Theta_dot = np.meshgrid(theta_vals, theta_dot_vals)\n",
    "V_vals = V_func(0, 0, Theta, Theta_dot)\n",
    "U_vals = u_func(0, 0, Theta, Theta_dot)\n",
    "\n",
    "# fig 1\n",
    "ax = fig.add_subplot(121, projection=\"3d\")\n",
    "surf = ax.plot_surface(Theta, Theta_dot, V_vals, cmap=\"viridis\", edgecolor=\"none\")\n",
    "ax.set_xlabel(r\"$\\theta$ (rad)\")\n",
    "ax.set_ylabel(r\"$\\dot{\\theta}$ (rad/s)\")\n",
    "ax.set_zlabel(r\"$V(\\theta, \\dot{\\theta})$\")\n",
    "ax.set_title(\"Lyapunov function $V$ (3D Surface)\")\n",
    "fig.colorbar(surf, ax=ax, shrink=0.5, aspect=10, label=\"V value\")\n",
    "\n",
    "# fig 2\n",
    "ax = fig.add_subplot(122, projection=\"3d\")\n",
    "surf = ax.plot_surface(Theta, Theta_dot, U_vals, cmap=\"viridis\", edgecolor=\"none\")\n",
    "ax.set_xlabel(r\"$\\theta$ (rad)\")\n",
    "ax.set_ylabel(r\"$\\dot{\\theta}$ (rad/s)\")\n",
    "ax.set_zlabel(r\"$u(\\theta, \\dot{\\theta})$\")\n",
    "ax.set_title(\"Control Input $u(\\\\theta, \\dot{x})$ (3D Surface)\")\n",
    "fig.colorbar(surf, ax=ax, shrink=0.5, aspect=10, label=\"u value\")\n",
    "\n",
    "plt.tight_layout()\n",
    "plt.show()"
   ]
  }
 ],
 "metadata": {
  "kernelspec": {
   "display_name": "Python 3",
   "language": "python",
   "name": "python3"
  },
  "language_info": {
   "codemirror_mode": {
    "name": "ipython",
    "version": 3
   },
   "file_extension": ".py",
   "mimetype": "text/x-python",
   "name": "python",
   "nbconvert_exporter": "python",
   "pygments_lexer": "ipython3",
   "version": "3.8.10"
  }
 },
 "nbformat": 4,
 "nbformat_minor": 2
}
